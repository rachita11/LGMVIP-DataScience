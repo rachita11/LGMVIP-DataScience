{
 "cells": [
  {
   "cell_type": "code",
   "execution_count": 51,
   "id": "c6bcaa85",
   "metadata": {},
   "outputs": [],
   "source": [
    "import pandas as pd\n",
    "import numpy as np\n",
    "import matplotlib.pyplot as plt"
   ]
  },
  {
   "cell_type": "code",
   "execution_count": 52,
   "id": "30c16215",
   "metadata": {},
   "outputs": [
    {
     "data": {
      "text/html": [
       "<div>\n",
       "<style scoped>\n",
       "    .dataframe tbody tr th:only-of-type {\n",
       "        vertical-align: middle;\n",
       "    }\n",
       "\n",
       "    .dataframe tbody tr th {\n",
       "        vertical-align: top;\n",
       "    }\n",
       "\n",
       "    .dataframe thead th {\n",
       "        text-align: right;\n",
       "    }\n",
       "</style>\n",
       "<table border=\"1\" class=\"dataframe\">\n",
       "  <thead>\n",
       "    <tr style=\"text-align: right;\">\n",
       "      <th></th>\n",
       "      <th>Date</th>\n",
       "      <th>Open</th>\n",
       "      <th>High</th>\n",
       "      <th>Low</th>\n",
       "      <th>Close</th>\n",
       "      <th>Adj Close</th>\n",
       "      <th>Volume</th>\n",
       "    </tr>\n",
       "  </thead>\n",
       "  <tbody>\n",
       "    <tr>\n",
       "      <th>0</th>\n",
       "      <td>2019-09-10</td>\n",
       "      <td>53.465000</td>\n",
       "      <td>54.195000</td>\n",
       "      <td>52.927502</td>\n",
       "      <td>54.174999</td>\n",
       "      <td>53.642761</td>\n",
       "      <td>127111600</td>\n",
       "    </tr>\n",
       "    <tr>\n",
       "      <th>1</th>\n",
       "      <td>2019-09-11</td>\n",
       "      <td>54.517502</td>\n",
       "      <td>55.927502</td>\n",
       "      <td>54.432499</td>\n",
       "      <td>55.897499</td>\n",
       "      <td>55.348343</td>\n",
       "      <td>177158400</td>\n",
       "    </tr>\n",
       "    <tr>\n",
       "      <th>2</th>\n",
       "      <td>2019-09-12</td>\n",
       "      <td>56.200001</td>\n",
       "      <td>56.605000</td>\n",
       "      <td>55.715000</td>\n",
       "      <td>55.772499</td>\n",
       "      <td>55.224567</td>\n",
       "      <td>128906800</td>\n",
       "    </tr>\n",
       "    <tr>\n",
       "      <th>3</th>\n",
       "      <td>2019-09-13</td>\n",
       "      <td>55.000000</td>\n",
       "      <td>55.197498</td>\n",
       "      <td>54.255001</td>\n",
       "      <td>54.687500</td>\n",
       "      <td>54.150230</td>\n",
       "      <td>159053200</td>\n",
       "    </tr>\n",
       "    <tr>\n",
       "      <th>4</th>\n",
       "      <td>2019-09-16</td>\n",
       "      <td>54.432499</td>\n",
       "      <td>55.032501</td>\n",
       "      <td>54.389999</td>\n",
       "      <td>54.974998</td>\n",
       "      <td>54.434902</td>\n",
       "      <td>84632400</td>\n",
       "    </tr>\n",
       "  </tbody>\n",
       "</table>\n",
       "</div>"
      ],
      "text/plain": [
       "         Date       Open       High        Low      Close  Adj Close  \\\n",
       "0  2019-09-10  53.465000  54.195000  52.927502  54.174999  53.642761   \n",
       "1  2019-09-11  54.517502  55.927502  54.432499  55.897499  55.348343   \n",
       "2  2019-09-12  56.200001  56.605000  55.715000  55.772499  55.224567   \n",
       "3  2019-09-13  55.000000  55.197498  54.255001  54.687500  54.150230   \n",
       "4  2019-09-16  54.432499  55.032501  54.389999  54.974998  54.434902   \n",
       "\n",
       "      Volume  \n",
       "0  127111600  \n",
       "1  177158400  \n",
       "2  128906800  \n",
       "3  159053200  \n",
       "4   84632400  "
      ]
     },
     "execution_count": 52,
     "metadata": {},
     "output_type": "execute_result"
    }
   ],
   "source": [
    "df=pd.read_csv(\"AAPL_daily_update.csv\",parse_dates=True)\n",
    "df.head()"
   ]
  },
  {
   "cell_type": "code",
   "execution_count": 53,
   "id": "3593f9f4",
   "metadata": {},
   "outputs": [
    {
     "data": {
      "text/plain": [
       "0    54.174999\n",
       "1    55.897499\n",
       "2    55.772499\n",
       "3    54.687500\n",
       "4    54.974998\n",
       "Name: Close, dtype: float64"
      ]
     },
     "execution_count": 53,
     "metadata": {},
     "output_type": "execute_result"
    }
   ],
   "source": [
    "df1=df.reset_index()['Close']\n",
    "df1.head()"
   ]
  },
  {
   "cell_type": "code",
   "execution_count": 54,
   "id": "64c4500a",
   "metadata": {},
   "outputs": [],
   "source": [
    "from sklearn.preprocessing import MinMaxScaler\n",
    "scaler = MinMaxScaler(feature_range=(0,1))\n",
    "df1=scaler.fit_transform(np.array(df1).reshape(-1,1))"
   ]
  },
  {
   "cell_type": "code",
   "execution_count": 55,
   "id": "a6113667",
   "metadata": {},
   "outputs": [
    {
     "data": {
      "text/plain": [
       "numpy.ndarray"
      ]
     },
     "execution_count": 55,
     "metadata": {},
     "output_type": "execute_result"
    }
   ],
   "source": [
    "train_set,test_set=df1[:200,:],df1[200:,:1]\n",
    "type(test_set)"
   ]
  },
  {
   "cell_type": "code",
   "execution_count": 56,
   "id": "2949c495",
   "metadata": {},
   "outputs": [],
   "source": [
    "n_input=30\n",
    "train_x,train_y =[],[]\n",
    "\n",
    "for i in range(len(train_set)-n_input-1):\n",
    "    a = train_set[i:i+n_input,0]\n",
    "    train_x.append(a)\n",
    "    train_y.append(train_set[i+n_input,0])\n",
    "\n",
    "train_x = np.array(train_x)\n",
    "train_y = np.array(train_y)"
   ]
  },
  {
   "cell_type": "code",
   "execution_count": 57,
   "id": "2df67535",
   "metadata": {},
   "outputs": [
    {
     "data": {
      "text/plain": [
       "array([0.71167437, 0.73186059, 0.68995694, 0.73539163, 0.76039007,\n",
       "       0.75910889, 0.75535908, 0.76729586, 0.76910821, 0.80120002,\n",
       "       0.87738278, 0.89597531, 0.88306985, 0.9042873 , 0.88538227,\n",
       "       0.88285119, 0.93575401, 1.        , 0.96525218, 0.83376043,\n",
       "       0.83476039, 0.73301675, 0.78926324])"
      ]
     },
     "execution_count": 57,
     "metadata": {},
     "output_type": "execute_result"
    }
   ],
   "source": [
    "test_x,test_y =[],[]\n",
    "\n",
    "for i in range(len(test_set)-n_input-1):\n",
    "    a = test_set[i:i+n_input,0]\n",
    "    test_x.append(a)\n",
    "    test_y.append(test_set[i+n_input,0])\n",
    "\n",
    "test_x = np.array(test_x)\n",
    "test_y = np.array(test_y)\n",
    "\n",
    "test_y"
   ]
  },
  {
   "cell_type": "code",
   "execution_count": 58,
   "id": "8e6ae62e",
   "metadata": {},
   "outputs": [],
   "source": [
    "train_x =train_x.reshape(train_x.shape[0],train_x.shape[1] , 1)\n",
    "test_x = test_x.reshape(test_x.shape[0],test_x.shape[1] , 1)"
   ]
  },
  {
   "cell_type": "code",
   "execution_count": 59,
   "id": "60bbc6be",
   "metadata": {},
   "outputs": [],
   "source": [
    "from keras.models import Sequential\n",
    "from keras.layers import Dense\n",
    "from keras.layers import LSTM"
   ]
  },
  {
   "cell_type": "code",
   "execution_count": 64,
   "id": "1c70d17e",
   "metadata": {},
   "outputs": [],
   "source": [
    "model=Sequential()\n",
    "model.add(LSTM(50,return_sequences=True, input_shape=(n_input,1)))\n",
    "model.add(LSTM(50))\n",
    "model.add(Dense(1))\n",
    "model.compile(loss='mean_squared_error',optimizer='adam')"
   ]
  },
  {
   "cell_type": "code",
   "execution_count": 65,
   "id": "61f12941",
   "metadata": {},
   "outputs": [
    {
     "name": "stdout",
     "output_type": "stream",
     "text": [
      "Epoch 1/30\n",
      "6/6 [==============================] - 3s 16ms/step - loss: 0.0490\n",
      "Epoch 2/30\n",
      "6/6 [==============================] - 0s 15ms/step - loss: 0.0068\n",
      "Epoch 3/30\n",
      "6/6 [==============================] - 0s 16ms/step - loss: 0.0043\n",
      "Epoch 4/30\n",
      "6/6 [==============================] - 0s 16ms/step - loss: 0.0053\n",
      "Epoch 5/30\n",
      "6/6 [==============================] - 0s 15ms/step - loss: 0.0033\n",
      "Epoch 6/30\n",
      "6/6 [==============================] - 0s 16ms/step - loss: 0.0034\n",
      "Epoch 7/30\n",
      "6/6 [==============================] - 0s 15ms/step - loss: 0.0022\n",
      "Epoch 8/30\n",
      "6/6 [==============================] - 0s 15ms/step - loss: 0.0025\n",
      "Epoch 9/30\n",
      "6/6 [==============================] - 0s 16ms/step - loss: 0.0025\n",
      "Epoch 10/30\n",
      "6/6 [==============================] - 0s 16ms/step - loss: 0.0023\n",
      "Epoch 11/30\n",
      "6/6 [==============================] - 0s 15ms/step - loss: 0.0023\n",
      "Epoch 12/30\n",
      "6/6 [==============================] - 0s 15ms/step - loss: 0.0021\n",
      "Epoch 13/30\n",
      "6/6 [==============================] - 0s 16ms/step - loss: 0.0019\n",
      "Epoch 14/30\n",
      "6/6 [==============================] - 0s 15ms/step - loss: 0.0018\n",
      "Epoch 15/30\n",
      "6/6 [==============================] - 0s 16ms/step - loss: 0.0021\n",
      "Epoch 16/30\n",
      "6/6 [==============================] - 0s 16ms/step - loss: 0.0015\n",
      "Epoch 17/30\n",
      "6/6 [==============================] - 0s 16ms/step - loss: 0.0015\n",
      "Epoch 18/30\n",
      "6/6 [==============================] - 0s 16ms/step - loss: 0.0012\n",
      "Epoch 19/30\n",
      "6/6 [==============================] - 0s 16ms/step - loss: 0.0011\n",
      "Epoch 20/30\n",
      "6/6 [==============================] - 0s 16ms/step - loss: 0.0013\n",
      "Epoch 21/30\n",
      "6/6 [==============================] - 0s 15ms/step - loss: 9.4023e-04\n",
      "Epoch 22/30\n",
      "6/6 [==============================] - 0s 17ms/step - loss: 0.0012\n",
      "Epoch 23/30\n",
      "6/6 [==============================] - 0s 16ms/step - loss: 0.0011\n",
      "Epoch 24/30\n",
      "6/6 [==============================] - 0s 15ms/step - loss: 0.0011\n",
      "Epoch 25/30\n",
      "6/6 [==============================] - 0s 16ms/step - loss: 0.0016\n",
      "Epoch 26/30\n",
      "6/6 [==============================] - 0s 17ms/step - loss: 0.0012\n",
      "Epoch 27/30\n",
      "6/6 [==============================] - 0s 15ms/step - loss: 0.0012\n",
      "Epoch 28/30\n",
      "6/6 [==============================] - 0s 16ms/step - loss: 9.8569e-04\n",
      "Epoch 29/30\n",
      "6/6 [==============================] - 0s 16ms/step - loss: 0.0011\n",
      "Epoch 30/30\n",
      "6/6 [==============================] - 0s 15ms/step - loss: 0.0011\n"
     ]
    },
    {
     "data": {
      "text/plain": [
       "<keras.callbacks.History at 0x1f0b5fe99d0>"
      ]
     },
     "execution_count": 65,
     "metadata": {},
     "output_type": "execute_result"
    }
   ],
   "source": [
    "model.fit(train_x,train_y,epochs=30)"
   ]
  },
  {
   "cell_type": "markdown",
   "id": "a7d68285",
   "metadata": {},
   "source": []
  },
  {
   "cell_type": "code",
   "execution_count": 66,
   "id": "469b7ea6",
   "metadata": {},
   "outputs": [
    {
     "data": {
      "text/plain": [
       "array([[0.5954174 ],\n",
       "       [0.63290185],\n",
       "       [0.6699439 ],\n",
       "       [0.7000789 ],\n",
       "       [0.72774935],\n",
       "       [0.7532495 ],\n",
       "       [0.7747566 ],\n",
       "       [0.7913645 ],\n",
       "       [0.803933  ],\n",
       "       [0.81238276],\n",
       "       [0.8198181 ],\n",
       "       [0.8326153 ],\n",
       "       [0.84880286],\n",
       "       [0.86478174],\n",
       "       [0.8815768 ],\n",
       "       [0.89521044],\n",
       "       [0.9055032 ],\n",
       "       [0.91775286],\n",
       "       [0.935456  ],\n",
       "       [0.95134276],\n",
       "       [0.9522382 ],\n",
       "       [0.94493556],\n",
       "       [0.9220388 ]], dtype=float32)"
      ]
     },
     "execution_count": 66,
     "metadata": {},
     "output_type": "execute_result"
    }
   ],
   "source": [
    "predictions = model.predict(test_x)\n",
    "predictions"
   ]
  },
  {
   "cell_type": "code",
   "execution_count": 68,
   "id": "5fe76028",
   "metadata": {},
   "outputs": [
    {
     "data": {
      "text/plain": [
       "[<matplotlib.lines.Line2D at 0x1f0c68b00a0>]"
      ]
     },
     "execution_count": 68,
     "metadata": {},
     "output_type": "execute_result"
    },
    {
     "data": {
      "image/png": "[encoded data removed]",
      "text/plain": [
       "<Figure size 432x288 with 1 Axes>"
      ]
     },
     "metadata": {
      "needs_background": "light"
     },
     "output_type": "display_data"
    }
   ],
   "source": [
    "plt.plot(test_y)\n",
    "plt.plot(predictions)"
   ]
  },
  {
   "cell_type": "code",
   "execution_count": null,
   "id": "f8551d79",
   "metadata": {},
   "outputs": [],
   "source": []
  }
 ],
 "metadata": {
  "kernelspec": {
   "display_name": "Python 3 (ipykernel)",
   "language": "python",
   "name": "python3"
  },
  "language_info": {
   "codemirror_mode": {
    "name": "ipython",
    "version": 3
   },
   "file_extension": ".py",
   "mimetype": "text/x-python",
   "name": "python",
   "nbconvert_exporter": "python",
   "pygments_lexer": "ipython3",
   "version": "3.9.5"
  }
 },
 "nbformat": 4,
 "nbformat_minor": 5
}
